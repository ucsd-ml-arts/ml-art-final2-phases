{
 "cells": [
  {
   "cell_type": "markdown",
   "metadata": {},
   "source": [
    "# Import/Setup"
   ]
  },
  {
   "cell_type": "code",
   "execution_count": 3,
   "metadata": {},
   "outputs": [],
   "source": [
    "import os\n",
    "import pickle\n",
    "import numpy as np\n",
    "import PIL.Image\n",
    "import dnnlib\n",
    "import dnnlib.tflib as tflib\n",
    "import config"
   ]
  },
  {
   "cell_type": "code",
   "execution_count": 4,
   "metadata": {},
   "outputs": [],
   "source": [
    "url_ffhq        = 'https://drive.google.com/uc?id=1MEGjdvVpUsu1jB4zrXZN7Y4kBBOzizDQ' # karras2019stylegan-ffhq-1024x1024.pkl\n",
    "url_celebahq    = 'https://drive.google.com/uc?id=1MGqJl28pN4t7SAtSrPdSRJSQJqahkzUf' # karras2019stylegan-celebahq-1024x1024.pkl\n",
    "url_bedrooms    = 'https://drive.google.com/uc?id=1MOSKeGF0FJcivpBI7s63V9YHloUTORiF' # karras2019stylegan-bedrooms-256x256.pkl\n",
    "url_cars        = 'https://drive.google.com/uc?id=1MJ6iCfNtMIRicihwRorsM3b7mmtmK9c3' # karras2019stylegan-cars-512x384.pkl\n",
    "url_cats        = 'https://drive.google.com/uc?id=1MQywl0FNt6lHu8E_EUqnRbviagS7fbiJ' # karras2019stylegan-cats-256x256.pkl\n",
    "\n",
    "synthesis_kwargs = dict(output_transform=dict(func=tflib.convert_images_to_uint8, nchw_to_nhwc=True), minibatch_size=8)\n",
    "\n",
    "_Gs_cache = dict()\n",
    "\n",
    "def load_Gs(url):\n",
    "    if url not in _Gs_cache:\n",
    "        with open(\"karras2019stylegan-ffhq-1024x1024.pkl\", \"rb\") as f:\n",
    "    #    with dnnlib.util.open_url(url, cache_dir=config.cache_dir) as f:\n",
    "            _G, _D, Gs = pickle.load(f)\n",
    "        _Gs_cache[url] = Gs\n",
    "    return _Gs_cache[url]"
   ]
  },
  {
   "cell_type": "code",
   "execution_count": 5,
   "metadata": {},
   "outputs": [],
   "source": [
    "def draw_truncation_trick_figure(png, Gs, w, h, seeds, psis, style_ranges):\n",
    "\n",
    "    latents = np.stack(np.random.RandomState(seed).randn(load_Gs(url_ffhq).input_shape[1]) for seed in seeds)\n",
    "    dlatents = load_Gs(url_ffhq).components.mapping.run(latents, None) # [seed, layer, component]\n",
    "    src_dlatents = Gs.components.mapping.run(dlatents[0], None) # [seed, layer, component]\n",
    "    dst_dlatents = Gs.components.mapping.run(dlatents[1], None) # [seed, layer, component]\n",
    "    dlatent_avg = load_Gs(url_ffhq).get_var('dlatent_avg') # [component]\n",
    "    placeholder = [0,1]\n",
    "    for row, dlatent in enumerate(list(dlatents)):\n",
    "        row_dlatents = (dlatent[np.newaxis] - dlatent_avg) * np.reshape(psis, [-1, 1, 1]) + dlatent_avg\n",
    "        placeholder[row] = row_dlatents\n",
    "\n",
    "    feed_row_dlatents = placeholder[0]\n",
    "    feed_col_dlatents = placeholder[1]\n",
    "\n",
    "    src_images = Gs.components.synthesis.run(feed_row_dlatents, randomize_noise=False, **synthesis_kwargs)\n",
    "    dst_images = Gs.components.synthesis.run(feed_col_dlatents, randomize_noise=False, **synthesis_kwargs)\n",
    "\n",
    "    canvas = PIL.Image.new('RGB', (w * (len(psis) + 1), h * (len(psis) + 1)), 'white')\n",
    "    for col, src_image in enumerate(list(src_images)):\n",
    "         canvas.paste(PIL.Image.fromarray(src_image, 'RGB'), ((col + 1) * w, 0))\n",
    "    for row, dst_image in enumerate(list(dst_images)):\n",
    "        canvas.paste(PIL.Image.fromarray(dst_image, 'RGB'), (0, (row + 1) * h))\n",
    "        row_dlatents = np.stack([dst_dlatents[row]] * len(psis))\n",
    "        row_dlatents[:, style_ranges[row]] = feed_row_dlatents[:, style_ranges[row]]\n",
    "       # row_dlatents = feed_row_dlatents\n",
    "        row_images = Gs.components.synthesis.run(row_dlatents, randomize_noise=False, **synthesis_kwargs)\n",
    "        print(row)\n",
    "        for col, image in enumerate(list(row_images)):\n",
    "            img = PIL.Image.fromarray(image,\"RGB\")\n",
    "            img.save(os.path.join(config.result_dir, \"%d-%d.png\" %(row,col)))\n",
    "            canvas.paste(PIL.Image.fromarray(image, 'RGB'), ((col + 1) * w, (row + 1) * h))\n",
    "    canvas.save(os.path.join(config.result_dir, 'testing.png'))\n"
   ]
  },
  {
   "cell_type": "code",
   "execution_count": 7,
   "metadata": {},
   "outputs": [
    {
     "name": "stdout",
     "output_type": "stream",
     "text": [
      "0\n",
      "1\n",
      "2\n",
      "3\n",
      "4\n",
      "5\n",
      "6\n",
      "7\n",
      "8\n",
      "9\n",
      "10\n",
      "11\n",
      "12\n"
     ]
    }
   ],
   "source": [
    "tflib.init_tf()\n",
    "\n",
    "draw_truncation_trick_figure(os.path.join(config.result_dir, 'testing.png'), load_Gs(url_ffhq),\n",
    "                             w=1024, h=1024, seeds=[91,388],psis= np.linspace(-1,1,18),\n",
    "                             style_ranges=[range(0,18)]*18)\n"
   ]
  }
 ],
 "metadata": {
  "kernelspec": {
   "display_name": "Python 3",
   "language": "python",
   "name": "python3"
  },
  "language_info": {
   "codemirror_mode": {
    "name": "ipython",
    "version": 3
   },
   "file_extension": ".py",
   "mimetype": "text/x-python",
   "name": "python",
   "nbconvert_exporter": "python",
   "pygments_lexer": "ipython3",
   "version": "3.6.8"
  }
 },
 "nbformat": 4,
 "nbformat_minor": 2
}
